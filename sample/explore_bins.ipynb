{
 "cells": [
  {
   "cell_type": "code",
   "execution_count": 1,
   "metadata": {},
   "outputs": [],
   "source": [
    "import matplotlib.pyplot as plt\n",
    "import numpy as np\n",
    "import pandas as pd"
   ]
  },
  {
   "cell_type": "code",
   "execution_count": 10,
   "metadata": {},
   "outputs": [],
   "source": [
    "from anomaly.utils import specobjid_to_idx"
   ]
  },
  {
   "cell_type": "code",
   "execution_count": 11,
   "metadata": {},
   "outputs": [],
   "source": [
    "# load data\n",
    "user = \"/home/edgar/\"\n",
    "work = f\"{user}/sdss\"\n",
    "data_directory = f\"{user}/spectra/0_01_z_0_5_4_0_snr_inf\"\n",
    "spectra = np.load(f\"{data_directory}/spectra.npy\", mmap_mode=\"r\")\n",
    "wave = np.load(f\"{data_directory}/wave.npy\")\n",
    "idx_specobjid = np.load(f\"{data_directory}/ids_inputting.npy\")"
   ]
  },
  {
   "cell_type": "code",
   "execution_count": 6,
   "metadata": {},
   "outputs": [
    {
     "data": {
      "text/plain": [
       "(724851, 21)"
      ]
     },
     "execution_count": 6,
     "metadata": {},
     "output_type": "execute_result"
    }
   ],
   "source": [
    "# load metadata\n",
    "sdss_df = pd.read_csv(\n",
    "    f\"{data_directory}/drop_0_01_z_0_5_4_0_snr_inf.csv.gz\",\n",
    "    index_col=\"specobjid\",\n",
    ")\n",
    "sdss_df.shape"
   ]
  },
  {
   "cell_type": "code",
   "execution_count": 9,
   "metadata": {},
   "outputs": [
    {
     "data": {
      "text/plain": [
       "count    724851.000000\n",
       "mean         14.709496\n",
       "std           7.034626\n",
       "min           4.000678\n",
       "25%           9.975084\n",
       "50%          13.175450\n",
       "75%          17.569555\n",
       "max          98.104000\n",
       "Name: snMedian, dtype: float64"
      ]
     },
     "execution_count": 9,
     "metadata": {},
     "output_type": "execute_result"
    },
    {
     "data": {
      "image/png": "[encoded data removed]",
      "text/plain": [
       "<Figure size 432x288 with 1 Axes>"
      ]
     },
     "metadata": {
      "needs_background": "light"
     },
     "output_type": "display_data"
    }
   ],
   "source": [
    "sdss_df[\"snMedian\"].hist()\n",
    "sdss_df[\"snMedian\"].describe()"
   ]
  },
  {
   "cell_type": "markdown",
   "metadata": {},
   "source": [
    "Explore spectra with small median SNR"
   ]
  },
  {
   "cell_type": "code",
   "execution_count": 13,
   "metadata": {},
   "outputs": [],
   "source": [
    "sdss_df.sort_values(by=[\"snMedian\"], inplace=True)"
   ]
  },
  {
   "cell_type": "code",
   "execution_count": 24,
   "metadata": {},
   "outputs": [
    {
     "data": {
      "text/plain": [
       "[<matplotlib.lines.Line2D at 0x7f832d165fc0>]"
      ]
     },
     "execution_count": 24,
     "metadata": {},
     "output_type": "execute_result"
    },
    {
     "data": {
      "image/png": "[encoded data removed]",
      "text/plain": [
       "<Figure size 432x288 with 1 Axes>"
      ]
     },
     "metadata": {
      "needs_background": "light"
     },
     "output_type": "display_data"
    }
   ],
   "source": [
    "idx_spectrum = specobjid_to_idx(sdss_df.index[0], idx_specobjid)\n",
    "plt.plot(wave, spectra[idx_spectrum])"
   ]
  },
  {
   "cell_type": "code",
   "execution_count": 47,
   "metadata": {},
   "outputs": [
    {
     "data": {
      "text/plain": [
       "79455"
      ]
     },
     "execution_count": 47,
     "metadata": {},
     "output_type": "execute_result"
    }
   ],
   "source": [
    "# number of spectra according to a SNR threshold\n",
    "mask_large_snr = sdss_df[\"snMedian\"].values > 23\n",
    "np.sum(mask_large_snr)"
   ]
  },
  {
   "cell_type": "code",
   "execution_count": 49,
   "metadata": {},
   "outputs": [
    {
     "data": {
      "text/plain": [
       "count    645396.000000\n",
       "mean         12.845551\n",
       "std           4.284209\n",
       "min           4.000678\n",
       "25%           9.602629\n",
       "50%          12.457130\n",
       "75%          15.788218\n",
       "max          22.999980\n",
       "Name: snMedian, dtype: float64"
      ]
     },
     "execution_count": 49,
     "metadata": {},
     "output_type": "execute_result"
    },
    {
     "data": {
      "image/png": "[encoded data removed]",
      "text/plain": [
       "<Figure size 432x288 with 1 Axes>"
      ]
     },
     "metadata": {
      "needs_background": "light"
     },
     "output_type": "display_data"
    }
   ],
   "source": [
    "sdss_df.loc[~mask_large_snr, \"snMedian\"].hist()\n",
    "sdss_df.loc[~mask_large_snr, \"snMedian\"].describe()"
   ]
  },
  {
   "cell_type": "code",
   "execution_count": 33,
   "metadata": {},
   "outputs": [],
   "source": [
    "df = sdss_df.loc[~mask_large_snr].copy()"
   ]
  },
  {
   "cell_type": "code",
   "execution_count": 41,
   "metadata": {},
   "outputs": [
    {
     "data": {
      "text/plain": [
       "count    529.000000\n",
       "mean      19.986122\n",
       "std        0.007647\n",
       "min       19.973590\n",
       "25%       19.979370\n",
       "50%       19.985640\n",
       "75%       19.992880\n",
       "max       19.999880\n",
       "Name: snMedian, dtype: float64"
      ]
     },
     "execution_count": 41,
     "metadata": {},
     "output_type": "execute_result"
    }
   ],
   "source": [
    "# explore stats of new bins\n",
    "n_spectra = 150_000\n",
    "n_bin = 4\n",
    "df.iloc[n_bin*n_spectra:(n_bin+1)*n_spectra][\"snMedian\"].describe()"
   ]
  },
  {
   "cell_type": "markdown",
   "metadata": {},
   "source": [
    "Explore old snr bin selection"
   ]
  },
  {
   "cell_type": "code",
   "execution_count": 53,
   "metadata": {},
   "outputs": [
    {
     "data": {
      "text/plain": [
       "count    144827.000000\n",
       "mean         25.728195\n",
       "std           6.720707\n",
       "min          18.993350\n",
       "25%          20.872250\n",
       "50%          23.618510\n",
       "75%          28.422095\n",
       "max          90.919050\n",
       "Name: snMedian, dtype: float64"
      ]
     },
     "execution_count": 53,
     "metadata": {},
     "output_type": "execute_result"
    },
    {
     "data": {
      "image/png": "[encoded data removed]",
      "text/plain": [
       "<Figure size 432x288 with 1 Axes>"
      ]
     },
     "metadata": {
      "needs_background": "light"
     },
     "output_type": "display_data"
    }
   ],
   "source": [
    "specobjid_04 = np.load(\n",
    "    f\"{data_directory}/bin_04/bin_04_index_specobjid.npy\"\n",
    ")\n",
    "sdss_df.loc[specobjid_04[:, 1], \"snMedian\"].hist()\n",
    "sdss_df.loc[specobjid_04[:, 1], \"snMedian\"].describe()"
   ]
  },
  {
   "cell_type": "code",
   "execution_count": 54,
   "metadata": {},
   "outputs": [
    {
     "data": {
      "text/plain": [
       "38502"
      ]
     },
     "execution_count": 54,
     "metadata": {},
     "output_type": "execute_result"
    }
   ],
   "source": [
    "mask_large_snr_04 = sdss_df.loc[specobjid_04[:, 1], \"snMedian\"].values > 28\n",
    "np.sum(mask_large_snr_04)"
   ]
  },
  {
   "cell_type": "code",
   "execution_count": 55,
   "metadata": {},
   "outputs": [
    {
     "data": {
      "text/plain": [
       "specobjid\n",
       "1386119995116775424    18.99335\n",
       "2420774760452483072    18.99341\n",
       "1089965158534506496    18.99348\n",
       "837832845933176832     18.99357\n",
       "1788018162252408832    18.99363\n",
       "                         ...   \n",
       "1874773753037088768    89.63552\n",
       "1874695412833609728    89.71014\n",
       "1874775677182437376    90.41394\n",
       "1874654181147568128    90.70859\n",
       "1874776226938251264    90.91905\n",
       "Name: snMedian, Length: 144827, dtype: float64"
      ]
     },
     "execution_count": 55,
     "metadata": {},
     "output_type": "execute_result"
    }
   ],
   "source": [
    "sdss_df.loc[specobjid_04[:, 1], \"snMedian\"]"
   ]
  },
  {
   "cell_type": "code",
   "execution_count": 70,
   "metadata": {},
   "outputs": [
    {
     "data": {
      "text/plain": [
       "[<matplotlib.lines.Line2D at 0x7f8324159270>]"
      ]
     },
     "execution_count": 70,
     "metadata": {},
     "output_type": "execute_result"
    },
    {
     "data": {
      "image/png": "[encoded data removed]",
      "text/plain": [
       "<Figure size 432x288 with 1 Axes>"
      ]
     },
     "metadata": {
      "needs_background": "light"
     },
     "output_type": "display_data"
    }
   ],
   "source": [
    "idx_spectrum = specobjid_to_idx(\n",
    "    sdss_df.loc[specobjid_04[:, 1]].index[-100000],\n",
    "    idx_specobjid\n",
    ")\n",
    "plt.plot(wave, spectra[idx_spectrum])"
   ]
  },
  {
   "cell_type": "code",
   "execution_count": 69,
   "metadata": {},
   "outputs": [
    {
     "data": {
      "text/plain": [
       "21.42426"
      ]
     },
     "execution_count": 69,
     "metadata": {},
     "output_type": "execute_result"
    }
   ],
   "source": [
    "sdss_df.loc[specobjid_04[:, 1], \"snMedian\"].iloc[-100000]"
   ]
  },
  {
   "cell_type": "code",
   "execution_count": null,
   "metadata": {},
   "outputs": [],
   "source": []
  }
 ],
 "metadata": {
  "kernelspec": {
   "display_name": "Python 3.10.6 64-bit",
   "language": "python",
   "name": "python3"
  },
  "language_info": {
   "codemirror_mode": {
    "name": "ipython",
    "version": 3
   },
   "file_extension": ".py",
   "mimetype": "text/x-python",
   "name": "python",
   "nbconvert_exporter": "python",
   "pygments_lexer": "ipython3",
   "version": "3.10.6"
  },
  "orig_nbformat": 4,
  "vscode": {
   "interpreter": {
    "hash": "916dbcbb3f70747c44a77c7bcd40155683ae19c65e1c03b4aa3499c5328201f1"
   }
  }
 },
 "nbformat": 4,
 "nbformat_minor": 2
}
